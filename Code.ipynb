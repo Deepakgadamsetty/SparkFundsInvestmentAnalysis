{
 "cells": [
  {
   "cell_type": "code",
   "execution_count": 1,
   "metadata": {},
   "outputs": [],
   "source": [
    "import pandas as pd\n",
    "import numpy as np\n",
    "import matplotlib.pyplot as ply"
   ]
  },
  {
   "cell_type": "code",
   "execution_count": 2,
   "metadata": {},
   "outputs": [],
   "source": [
    "import chardet"
   ]
  },
  {
   "cell_type": "code",
   "execution_count": 3,
   "metadata": {},
   "outputs": [
    {
     "name": "stdout",
     "output_type": "stream",
     "text": [
      "{'encoding': 'ISO-8859-1', 'confidence': 0.73, 'language': ''}\n"
     ]
    }
   ],
   "source": [
    "with open('rounds2.csv','rb') as rawdata_rounds:\n",
    "    result  = chardet.detect(rawdata_rounds.read(10000))\n",
    "print(result)"
   ]
  },
  {
   "cell_type": "code",
   "execution_count": 4,
   "metadata": {},
   "outputs": [],
   "source": [
    "rounds2 = pd.read_csv('rounds2.csv',encoding='palmos')\n",
    "companies = pd.read_csv('companies.csv',encoding='palmos')"
   ]
  },
  {
   "cell_type": "code",
   "execution_count": 5,
   "metadata": {},
   "outputs": [
    {
     "name": "stdout",
     "output_type": "stream",
     "text": [
      "<class 'pandas.core.frame.DataFrame'>\n",
      "RangeIndex: 114949 entries, 0 to 114948\n",
      "Data columns (total 6 columns):\n",
      " #   Column                   Non-Null Count   Dtype  \n",
      "---  ------                   --------------   -----  \n",
      " 0   company_permalink        114949 non-null  object \n",
      " 1   funding_round_permalink  114949 non-null  object \n",
      " 2   funding_round_type       114949 non-null  object \n",
      " 3   funding_round_code       31140 non-null   object \n",
      " 4   funded_at                114949 non-null  object \n",
      " 5   raised_amount_usd        94959 non-null   float64\n",
      "dtypes: float64(1), object(5)\n",
      "memory usage: 5.3+ MB\n"
     ]
    }
   ],
   "source": [
    "rounds2.info()"
   ]
  },
  {
   "cell_type": "code",
   "execution_count": 6,
   "metadata": {},
   "outputs": [
    {
     "name": "stdout",
     "output_type": "stream",
     "text": [
      "<class 'pandas.core.frame.DataFrame'>\n",
      "RangeIndex: 66368 entries, 0 to 66367\n",
      "Data columns (total 10 columns):\n",
      " #   Column         Non-Null Count  Dtype \n",
      "---  ------         --------------  ----- \n",
      " 0   permalink      66368 non-null  object\n",
      " 1   name           66367 non-null  object\n",
      " 2   homepage_url   61310 non-null  object\n",
      " 3   category_list  63220 non-null  object\n",
      " 4   status         66368 non-null  object\n",
      " 5   country_code   59410 non-null  object\n",
      " 6   state_code     57821 non-null  object\n",
      " 7   region         58338 non-null  object\n",
      " 8   city           58340 non-null  object\n",
      " 9   founded_at     51147 non-null  object\n",
      "dtypes: object(10)\n",
      "memory usage: 5.1+ MB\n"
     ]
    }
   ],
   "source": [
    "companies.info()"
   ]
  },
  {
   "cell_type": "code",
   "execution_count": 7,
   "metadata": {},
   "outputs": [],
   "source": [
    "#Chaning the permalink and company_permalink column vairables in to upper case to avoid duplicity.\n",
    "rounds2.company_permalink = rounds2.company_permalink.str.upper()\n",
    "companies.permalink  = companies.permalink.str.upper()"
   ]
  },
  {
   "cell_type": "code",
   "execution_count": 8,
   "metadata": {},
   "outputs": [
    {
     "data": {
      "text/plain": [
       "(66368, 66368)"
      ]
     },
     "execution_count": 8,
     "metadata": {},
     "output_type": "execute_result"
    }
   ],
   "source": [
    "# Checkpoint 1 ---> Finding the number of unique values in both companies and rounds datasets\n",
    "companies.permalink.unique().size, rounds2.company_permalink.unique().size"
   ]
  },
  {
   "cell_type": "code",
   "execution_count": 9,
   "metadata": {},
   "outputs": [
    {
     "data": {
      "text/html": [
       "<div>\n",
       "<style scoped>\n",
       "    .dataframe tbody tr th:only-of-type {\n",
       "        vertical-align: middle;\n",
       "    }\n",
       "\n",
       "    .dataframe tbody tr th {\n",
       "        vertical-align: top;\n",
       "    }\n",
       "\n",
       "    .dataframe thead th {\n",
       "        text-align: right;\n",
       "    }\n",
       "</style>\n",
       "<table border=\"1\" class=\"dataframe\">\n",
       "  <thead>\n",
       "    <tr style=\"text-align: right;\">\n",
       "      <th></th>\n",
       "      <th>company_permalink</th>\n",
       "      <th>funding_round_permalink</th>\n",
       "      <th>funding_round_type</th>\n",
       "      <th>funding_round_code</th>\n",
       "      <th>funded_at</th>\n",
       "      <th>raised_amount_usd</th>\n",
       "    </tr>\n",
       "  </thead>\n",
       "  <tbody>\n",
       "  </tbody>\n",
       "</table>\n",
       "</div>"
      ],
      "text/plain": [
       "Empty DataFrame\n",
       "Columns: [company_permalink, funding_round_permalink, funding_round_type, funding_round_code, funded_at, raised_amount_usd]\n",
       "Index: []"
      ]
     },
     "execution_count": 9,
     "metadata": {},
     "output_type": "execute_result"
    }
   ],
   "source": [
    "rounds2[~rounds2.company_permalink.isin(companies.permalink)]"
   ]
  },
  {
   "cell_type": "code",
   "execution_count": 10,
   "metadata": {},
   "outputs": [],
   "source": [
    "companies.name[companies.name.isnull()] = 'tell it in'"
   ]
  },
  {
   "cell_type": "code",
   "execution_count": 11,
   "metadata": {},
   "outputs": [
    {
     "name": "stdout",
     "output_type": "stream",
     "text": [
      "<class 'pandas.core.frame.DataFrame'>\n",
      "RangeIndex: 66368 entries, 0 to 66367\n",
      "Data columns (total 10 columns):\n",
      " #   Column         Non-Null Count  Dtype \n",
      "---  ------         --------------  ----- \n",
      " 0   permalink      66368 non-null  object\n",
      " 1   name           66368 non-null  object\n",
      " 2   homepage_url   61310 non-null  object\n",
      " 3   category_list  63220 non-null  object\n",
      " 4   status         66368 non-null  object\n",
      " 5   country_code   59410 non-null  object\n",
      " 6   state_code     57821 non-null  object\n",
      " 7   region         58338 non-null  object\n",
      " 8   city           58340 non-null  object\n",
      " 9   founded_at     51147 non-null  object\n",
      "dtypes: object(10)\n",
      "memory usage: 5.1+ MB\n"
     ]
    }
   ],
   "source": [
    "companies.info()"
   ]
  },
  {
   "cell_type": "code",
   "execution_count": 12,
   "metadata": {},
   "outputs": [],
   "source": [
    "# Merging rounds and companies dataframes on common column company_permalink\n",
    "master_frame = pd.merge(rounds2,companies,left_on='company_permalink',right_on='permalink')"
   ]
  },
  {
   "cell_type": "code",
   "execution_count": 13,
   "metadata": {},
   "outputs": [
    {
     "data": {
      "text/plain": [
       "(114949, 16)"
      ]
     },
     "execution_count": 13,
     "metadata": {},
     "output_type": "execute_result"
    }
   ],
   "source": [
    "master_frame.shape"
   ]
  },
  {
   "cell_type": "code",
   "execution_count": 14,
   "metadata": {},
   "outputs": [
    {
     "name": "stdout",
     "output_type": "stream",
     "text": [
      "<class 'pandas.core.frame.DataFrame'>\n",
      "Int64Index: 114949 entries, 0 to 114948\n",
      "Data columns (total 16 columns):\n",
      " #   Column                   Non-Null Count   Dtype  \n",
      "---  ------                   --------------   -----  \n",
      " 0   company_permalink        114949 non-null  object \n",
      " 1   funding_round_permalink  114949 non-null  object \n",
      " 2   funding_round_type       114949 non-null  object \n",
      " 3   funding_round_code       31140 non-null   object \n",
      " 4   funded_at                114949 non-null  object \n",
      " 5   raised_amount_usd        94959 non-null   float64\n",
      " 6   permalink                114949 non-null  object \n",
      " 7   name                     114949 non-null  object \n",
      " 8   homepage_url             108815 non-null  object \n",
      " 9   category_list            111539 non-null  object \n",
      " 10  status                   114949 non-null  object \n",
      " 11  country_code             106271 non-null  object \n",
      " 12  state_code               104003 non-null  object \n",
      " 13  region                   104782 non-null  object \n",
      " 14  city                     104785 non-null  object \n",
      " 15  founded_at               94428 non-null   object \n",
      "dtypes: float64(1), object(15)\n",
      "memory usage: 14.9+ MB\n"
     ]
    }
   ],
   "source": [
    "master_frame.info()"
   ]
  },
  {
   "cell_type": "code",
   "execution_count": 15,
   "metadata": {},
   "outputs": [
    {
     "data": {
      "text/plain": [
       "count    5.022800e+04\n",
       "mean     1.174895e+07\n",
       "std      8.635207e+07\n",
       "min      0.000000e+00\n",
       "25%      1.600902e+06\n",
       "50%      5.000000e+06\n",
       "75%      1.200000e+07\n",
       "max      1.760000e+10\n",
       "Name: raised_amount_usd, dtype: float64"
      ]
     },
     "execution_count": 15,
     "metadata": {},
     "output_type": "execute_result"
    }
   ],
   "source": [
    "# Finding the representative funding amount for venture type.\n",
    "master_frame.raised_amount_usd[master_frame.funding_round_type == 'venture'].describe(include = 'all')"
   ]
  },
  {
   "cell_type": "code",
   "execution_count": 16,
   "metadata": {},
   "outputs": [
    {
     "data": {
      "text/plain": [
       "count    4.860000e+03\n",
       "mean     9.586945e+05\n",
       "std      7.404397e+06\n",
       "min      0.000000e+00\n",
       "25%      1.500000e+05\n",
       "50%      4.000000e+05\n",
       "75%      1.000000e+06\n",
       "max      4.945120e+08\n",
       "Name: raised_amount_usd, dtype: float64"
      ]
     },
     "execution_count": 16,
     "metadata": {},
     "output_type": "execute_result"
    }
   ],
   "source": [
    "# Checkpoint 2 ------> Finding the representative funding amount for angel type.\n",
    "master_frame.raised_amount_usd[master_frame.funding_round_type == 'angel'].describe(include = 'all')"
   ]
  },
  {
   "cell_type": "code",
   "execution_count": 17,
   "metadata": {},
   "outputs": [
    {
     "data": {
      "text/plain": [
       "count    2.360300e+04\n",
       "mean     7.198180e+05\n",
       "std      2.221733e+06\n",
       "min      0.000000e+00\n",
       "25%      5.500000e+04\n",
       "50%      2.750000e+05\n",
       "75%      1.000000e+06\n",
       "max      2.000000e+08\n",
       "Name: raised_amount_usd, dtype: float64"
      ]
     },
     "execution_count": 17,
     "metadata": {},
     "output_type": "execute_result"
    }
   ],
   "source": [
    "# Checkpoint 2 ------> Finding the representative funding amount for seed type.\n",
    "master_frame.raised_amount_usd[master_frame.funding_round_type == 'seed'].describe(include = 'all')"
   ]
  },
  {
   "cell_type": "code",
   "execution_count": 18,
   "metadata": {},
   "outputs": [
    {
     "data": {
      "text/plain": [
       "count    1.936000e+03\n",
       "mean     7.330859e+07\n",
       "std      1.981135e+08\n",
       "min      0.000000e+00\n",
       "25%      5.000000e+06\n",
       "50%      2.000000e+07\n",
       "75%      7.500000e+07\n",
       "max      4.745460e+09\n",
       "Name: raised_amount_usd, dtype: float64"
      ]
     },
     "execution_count": 18,
     "metadata": {},
     "output_type": "execute_result"
    }
   ],
   "source": [
    "# Checkpoint 2 ------> Finding the representative funding amount for private equity type.\n",
    "master_frame.raised_amount_usd[master_frame.funding_round_type == 'private_equity'].describe(include = 'all')"
   ]
  },
  {
   "cell_type": "code",
   "execution_count": 19,
   "metadata": {},
   "outputs": [],
   "source": [
    "master_frame_main = master_frame"
   ]
  },
  {
   "cell_type": "code",
   "execution_count": 20,
   "metadata": {},
   "outputs": [],
   "source": [
    "#Filtering data frame with funding type as venture\n",
    "master_frame = master_frame[master_frame.funding_round_type=='venture']"
   ]
  },
  {
   "cell_type": "code",
   "execution_count": 21,
   "metadata": {},
   "outputs": [
    {
     "name": "stdout",
     "output_type": "stream",
     "text": [
      "<class 'pandas.core.frame.DataFrame'>\n",
      "Int64Index: 55494 entries, 0 to 114946\n",
      "Data columns (total 16 columns):\n",
      " #   Column                   Non-Null Count  Dtype  \n",
      "---  ------                   --------------  -----  \n",
      " 0   company_permalink        55494 non-null  object \n",
      " 1   funding_round_permalink  55494 non-null  object \n",
      " 2   funding_round_type       55494 non-null  object \n",
      " 3   funding_round_code       30985 non-null  object \n",
      " 4   funded_at                55494 non-null  object \n",
      " 5   raised_amount_usd        50228 non-null  float64\n",
      " 6   permalink                55494 non-null  object \n",
      " 7   name                     55494 non-null  object \n",
      " 8   homepage_url             52549 non-null  object \n",
      " 9   category_list            54362 non-null  object \n",
      " 10  status                   55494 non-null  object \n",
      " 11  country_code             52619 non-null  object \n",
      " 12  state_code               51698 non-null  object \n",
      " 13  region                   51940 non-null  object \n",
      " 14  city                     51940 non-null  object \n",
      " 15  founded_at               44303 non-null  object \n",
      "dtypes: float64(1), object(15)\n",
      "memory usage: 7.2+ MB\n"
     ]
    }
   ],
   "source": [
    "master_frame.info()"
   ]
  },
  {
   "cell_type": "code",
   "execution_count": 22,
   "metadata": {},
   "outputs": [
    {
     "data": {
      "text/plain": [
       "USA    38372\n",
       "GBR     2303\n",
       "CHN     2087\n",
       "CAN     1346\n",
       "IND      992\n",
       "FRA      985\n",
       "ISR      910\n",
       "DEU      786\n",
       "ESP      343\n",
       "Name: country_code, dtype: int64"
      ]
     },
     "execution_count": 22,
     "metadata": {},
     "output_type": "execute_result"
    }
   ],
   "source": [
    "master_frame.country_code.value_counts()[0:9]"
   ]
  },
  {
   "cell_type": "code",
   "execution_count": 23,
   "metadata": {},
   "outputs": [],
   "source": [
    "# Checkpoint 3 ------> Country analysis, Finding top 3 english speaking countries and filtering the dataframe\n",
    "master_frame = master_frame[(master_frame.country_code == 'USA') | (master_frame.country_code == 'GBR') | (master_frame.country_code == 'CAN')]"
   ]
  },
  {
   "cell_type": "code",
   "execution_count": 24,
   "metadata": {},
   "outputs": [
    {
     "name": "stdout",
     "output_type": "stream",
     "text": [
      "<class 'pandas.core.frame.DataFrame'>\n",
      "Int64Index: 42021 entries, 1 to 114936\n",
      "Data columns (total 16 columns):\n",
      " #   Column                   Non-Null Count  Dtype  \n",
      "---  ------                   --------------  -----  \n",
      " 0   company_permalink        42021 non-null  object \n",
      " 1   funding_round_permalink  42021 non-null  object \n",
      " 2   funding_round_type       42021 non-null  object \n",
      " 3   funding_round_code       22640 non-null  object \n",
      " 4   funded_at                42021 non-null  object \n",
      " 5   raised_amount_usd        39450 non-null  float64\n",
      " 6   permalink                42021 non-null  object \n",
      " 7   name                     42021 non-null  object \n",
      " 8   homepage_url             40017 non-null  object \n",
      " 9   category_list            41630 non-null  object \n",
      " 10  status                   42021 non-null  object \n",
      " 11  country_code             42021 non-null  object \n",
      " 12  state_code               41942 non-null  object \n",
      " 13  region                   41848 non-null  object \n",
      " 14  city                     41848 non-null  object \n",
      " 15  founded_at               34936 non-null  object \n",
      "dtypes: float64(1), object(15)\n",
      "memory usage: 5.5+ MB\n"
     ]
    }
   ],
   "source": [
    "master_frame.info()"
   ]
  },
  {
   "cell_type": "code",
   "execution_count": 25,
   "metadata": {},
   "outputs": [],
   "source": [
    "mapping = pd.read_csv('mapping.csv')"
   ]
  },
  {
   "cell_type": "code",
   "execution_count": 26,
   "metadata": {},
   "outputs": [
    {
     "data": {
      "text/html": [
       "<div>\n",
       "<style scoped>\n",
       "    .dataframe tbody tr th:only-of-type {\n",
       "        vertical-align: middle;\n",
       "    }\n",
       "\n",
       "    .dataframe tbody tr th {\n",
       "        vertical-align: top;\n",
       "    }\n",
       "\n",
       "    .dataframe thead th {\n",
       "        text-align: right;\n",
       "    }\n",
       "</style>\n",
       "<table border=\"1\" class=\"dataframe\">\n",
       "  <thead>\n",
       "    <tr style=\"text-align: right;\">\n",
       "      <th></th>\n",
       "      <th>category_list</th>\n",
       "      <th>Automotive &amp; Sports</th>\n",
       "      <th>Blanks</th>\n",
       "      <th>Cleantech / Semiconductors</th>\n",
       "      <th>Entertainment</th>\n",
       "      <th>Health</th>\n",
       "      <th>Manufacturing</th>\n",
       "      <th>News, Search and Messaging</th>\n",
       "      <th>Others</th>\n",
       "      <th>Social, Finance, Analytics, Advertising</th>\n",
       "    </tr>\n",
       "  </thead>\n",
       "  <tbody>\n",
       "    <tr>\n",
       "      <th>0</th>\n",
       "      <td>NaN</td>\n",
       "      <td>0</td>\n",
       "      <td>1</td>\n",
       "      <td>0</td>\n",
       "      <td>0</td>\n",
       "      <td>0</td>\n",
       "      <td>0</td>\n",
       "      <td>0</td>\n",
       "      <td>0</td>\n",
       "      <td>0</td>\n",
       "    </tr>\n",
       "    <tr>\n",
       "      <th>1</th>\n",
       "      <td>3D</td>\n",
       "      <td>0</td>\n",
       "      <td>0</td>\n",
       "      <td>0</td>\n",
       "      <td>0</td>\n",
       "      <td>0</td>\n",
       "      <td>1</td>\n",
       "      <td>0</td>\n",
       "      <td>0</td>\n",
       "      <td>0</td>\n",
       "    </tr>\n",
       "    <tr>\n",
       "      <th>2</th>\n",
       "      <td>3D Printing</td>\n",
       "      <td>0</td>\n",
       "      <td>0</td>\n",
       "      <td>0</td>\n",
       "      <td>0</td>\n",
       "      <td>0</td>\n",
       "      <td>1</td>\n",
       "      <td>0</td>\n",
       "      <td>0</td>\n",
       "      <td>0</td>\n",
       "    </tr>\n",
       "  </tbody>\n",
       "</table>\n",
       "</div>"
      ],
      "text/plain": [
       "  category_list  Automotive & Sports  Blanks  Cleantech / Semiconductors  \\\n",
       "0           NaN                    0       1                           0   \n",
       "1            3D                    0       0                           0   \n",
       "2   3D Printing                    0       0                           0   \n",
       "\n",
       "   Entertainment  Health  Manufacturing  News, Search and Messaging  Others  \\\n",
       "0              0       0              0                           0       0   \n",
       "1              0       0              1                           0       0   \n",
       "2              0       0              1                           0       0   \n",
       "\n",
       "   Social, Finance, Analytics, Advertising  \n",
       "0                                        0  \n",
       "1                                        0  \n",
       "2                                        0  "
      ]
     },
     "execution_count": 26,
     "metadata": {},
     "output_type": "execute_result"
    }
   ],
   "source": [
    "mapping.head(3)"
   ]
  },
  {
   "cell_type": "code",
   "execution_count": 27,
   "metadata": {},
   "outputs": [
    {
     "name": "stdout",
     "output_type": "stream",
     "text": [
      "<class 'pandas.core.frame.DataFrame'>\n",
      "RangeIndex: 688 entries, 0 to 687\n",
      "Data columns (total 10 columns):\n",
      " #   Column                                   Non-Null Count  Dtype \n",
      "---  ------                                   --------------  ----- \n",
      " 0   category_list                            687 non-null    object\n",
      " 1   Automotive & Sports                      688 non-null    int64 \n",
      " 2   Blanks                                   688 non-null    int64 \n",
      " 3   Cleantech / Semiconductors               688 non-null    int64 \n",
      " 4   Entertainment                            688 non-null    int64 \n",
      " 5   Health                                   688 non-null    int64 \n",
      " 6   Manufacturing                            688 non-null    int64 \n",
      " 7   News, Search and Messaging               688 non-null    int64 \n",
      " 8   Others                                   688 non-null    int64 \n",
      " 9   Social, Finance, Analytics, Advertising  688 non-null    int64 \n",
      "dtypes: int64(9), object(1)\n",
      "memory usage: 53.9+ KB\n"
     ]
    }
   ],
   "source": [
    "mapping.info()"
   ]
  },
  {
   "cell_type": "code",
   "execution_count": 28,
   "metadata": {},
   "outputs": [
    {
     "name": "stdout",
     "output_type": "stream",
     "text": [
      "['Automotive & Sports', 'Blanks', 'Cleantech / Semiconductors', 'Entertainment', 'Health', 'Manufacturing', 'News, Search and Messaging', 'Others', 'Social, Finance, Analytics, Advertising'] \n",
      "\n",
      "['category_list']\n"
     ]
    }
   ],
   "source": [
    "value_vars = list(mapping.columns[1:])\n",
    "id_vars = list(np.setdiff1d(mapping.columns, value_vars))\n",
    "\n",
    "print(value_vars,\"\\n\")\n",
    "print(id_vars)"
   ]
  },
  {
   "cell_type": "code",
   "execution_count": 29,
   "metadata": {},
   "outputs": [
    {
     "data": {
      "text/html": [
       "<div>\n",
       "<style scoped>\n",
       "    .dataframe tbody tr th:only-of-type {\n",
       "        vertical-align: middle;\n",
       "    }\n",
       "\n",
       "    .dataframe tbody tr th {\n",
       "        vertical-align: top;\n",
       "    }\n",
       "\n",
       "    .dataframe thead th {\n",
       "        text-align: right;\n",
       "    }\n",
       "</style>\n",
       "<table border=\"1\" class=\"dataframe\">\n",
       "  <thead>\n",
       "    <tr style=\"text-align: right;\">\n",
       "      <th></th>\n",
       "      <th>category_list</th>\n",
       "      <th>variable</th>\n",
       "      <th>value</th>\n",
       "    </tr>\n",
       "  </thead>\n",
       "  <tbody>\n",
       "    <tr>\n",
       "      <th>0</th>\n",
       "      <td>NaN</td>\n",
       "      <td>Automotive &amp; Sports</td>\n",
       "      <td>0</td>\n",
       "    </tr>\n",
       "    <tr>\n",
       "      <th>1</th>\n",
       "      <td>3D</td>\n",
       "      <td>Automotive &amp; Sports</td>\n",
       "      <td>0</td>\n",
       "    </tr>\n",
       "    <tr>\n",
       "      <th>2</th>\n",
       "      <td>3D Printing</td>\n",
       "      <td>Automotive &amp; Sports</td>\n",
       "      <td>0</td>\n",
       "    </tr>\n",
       "    <tr>\n",
       "      <th>3</th>\n",
       "      <td>3D Technology</td>\n",
       "      <td>Automotive &amp; Sports</td>\n",
       "      <td>0</td>\n",
       "    </tr>\n",
       "    <tr>\n",
       "      <th>4</th>\n",
       "      <td>Accounting</td>\n",
       "      <td>Automotive &amp; Sports</td>\n",
       "      <td>0</td>\n",
       "    </tr>\n",
       "    <tr>\n",
       "      <th>...</th>\n",
       "      <td>...</td>\n",
       "      <td>...</td>\n",
       "      <td>...</td>\n",
       "    </tr>\n",
       "    <tr>\n",
       "      <th>6187</th>\n",
       "      <td>Wholesale</td>\n",
       "      <td>Social, Finance, Analytics, Advertising</td>\n",
       "      <td>0</td>\n",
       "    </tr>\n",
       "    <tr>\n",
       "      <th>6188</th>\n",
       "      <td>Wine And Spirits</td>\n",
       "      <td>Social, Finance, Analytics, Advertising</td>\n",
       "      <td>0</td>\n",
       "    </tr>\n",
       "    <tr>\n",
       "      <th>6189</th>\n",
       "      <td>Wireless</td>\n",
       "      <td>Social, Finance, Analytics, Advertising</td>\n",
       "      <td>0</td>\n",
       "    </tr>\n",
       "    <tr>\n",
       "      <th>6190</th>\n",
       "      <td>Women</td>\n",
       "      <td>Social, Finance, Analytics, Advertising</td>\n",
       "      <td>0</td>\n",
       "    </tr>\n",
       "    <tr>\n",
       "      <th>6191</th>\n",
       "      <td>Young Adults</td>\n",
       "      <td>Social, Finance, Analytics, Advertising</td>\n",
       "      <td>0</td>\n",
       "    </tr>\n",
       "  </tbody>\n",
       "</table>\n",
       "<p>6192 rows × 3 columns</p>\n",
       "</div>"
      ],
      "text/plain": [
       "         category_list                                 variable  value\n",
       "0                  NaN                      Automotive & Sports      0\n",
       "1                   3D                      Automotive & Sports      0\n",
       "2          3D Printing                      Automotive & Sports      0\n",
       "3        3D Technology                      Automotive & Sports      0\n",
       "4           Accounting                      Automotive & Sports      0\n",
       "...                ...                                      ...    ...\n",
       "6187         Wholesale  Social, Finance, Analytics, Advertising      0\n",
       "6188  Wine And Spirits  Social, Finance, Analytics, Advertising      0\n",
       "6189          Wireless  Social, Finance, Analytics, Advertising      0\n",
       "6190             Women  Social, Finance, Analytics, Advertising      0\n",
       "6191      Young Adults  Social, Finance, Analytics, Advertising      0\n",
       "\n",
       "[6192 rows x 3 columns]"
      ]
     },
     "execution_count": 29,
     "metadata": {},
     "output_type": "execute_result"
    }
   ],
   "source": [
    "# converting wide datafrme to long dataframe for better ease of analysis\n",
    "long_mapping = pd.melt(mapping, id_vars= id_vars, value_vars= value_vars)\n",
    "long_mapping"
   ]
  },
  {
   "cell_type": "code",
   "execution_count": 30,
   "metadata": {},
   "outputs": [
    {
     "data": {
      "text/html": [
       "<div>\n",
       "<style scoped>\n",
       "    .dataframe tbody tr th:only-of-type {\n",
       "        vertical-align: middle;\n",
       "    }\n",
       "\n",
       "    .dataframe tbody tr th {\n",
       "        vertical-align: top;\n",
       "    }\n",
       "\n",
       "    .dataframe thead th {\n",
       "        text-align: right;\n",
       "    }\n",
       "</style>\n",
       "<table border=\"1\" class=\"dataframe\">\n",
       "  <thead>\n",
       "    <tr style=\"text-align: right;\">\n",
       "      <th></th>\n",
       "      <th>category_list</th>\n",
       "      <th>variable</th>\n",
       "      <th>value</th>\n",
       "    </tr>\n",
       "  </thead>\n",
       "  <tbody>\n",
       "    <tr>\n",
       "      <th>8</th>\n",
       "      <td>Adventure Travel</td>\n",
       "      <td>Automotive &amp; Sports</td>\n",
       "      <td>1</td>\n",
       "    </tr>\n",
       "    <tr>\n",
       "      <th>14</th>\n",
       "      <td>Aerospace</td>\n",
       "      <td>Automotive &amp; Sports</td>\n",
       "      <td>1</td>\n",
       "    </tr>\n",
       "    <tr>\n",
       "      <th>45</th>\n",
       "      <td>Auto</td>\n",
       "      <td>Automotive &amp; Sports</td>\n",
       "      <td>1</td>\n",
       "    </tr>\n",
       "    <tr>\n",
       "      <th>46</th>\n",
       "      <td>Automated Kiosk</td>\n",
       "      <td>Automotive &amp; Sports</td>\n",
       "      <td>1</td>\n",
       "    </tr>\n",
       "  </tbody>\n",
       "</table>\n",
       "</div>"
      ],
      "text/plain": [
       "       category_list             variable  value\n",
       "8   Adventure Travel  Automotive & Sports      1\n",
       "14         Aerospace  Automotive & Sports      1\n",
       "45              Auto  Automotive & Sports      1\n",
       "46   Automated Kiosk  Automotive & Sports      1"
      ]
     },
     "execution_count": 30,
     "metadata": {},
     "output_type": "execute_result"
    }
   ],
   "source": [
    "long_mapping = long_mapping[long_mapping['value']==1]\n",
    "long_mapping.head(4)"
   ]
  },
  {
   "cell_type": "code",
   "execution_count": 31,
   "metadata": {},
   "outputs": [
    {
     "data": {
      "text/html": [
       "<div>\n",
       "<style scoped>\n",
       "    .dataframe tbody tr th:only-of-type {\n",
       "        vertical-align: middle;\n",
       "    }\n",
       "\n",
       "    .dataframe tbody tr th {\n",
       "        vertical-align: top;\n",
       "    }\n",
       "\n",
       "    .dataframe thead th {\n",
       "        text-align: right;\n",
       "    }\n",
       "</style>\n",
       "<table border=\"1\" class=\"dataframe\">\n",
       "  <thead>\n",
       "    <tr style=\"text-align: right;\">\n",
       "      <th></th>\n",
       "      <th>category_list</th>\n",
       "      <th>variable</th>\n",
       "    </tr>\n",
       "  </thead>\n",
       "  <tbody>\n",
       "    <tr>\n",
       "      <th>8</th>\n",
       "      <td>Adventure Travel</td>\n",
       "      <td>Automotive &amp; Sports</td>\n",
       "    </tr>\n",
       "    <tr>\n",
       "      <th>14</th>\n",
       "      <td>Aerospace</td>\n",
       "      <td>Automotive &amp; Sports</td>\n",
       "    </tr>\n",
       "    <tr>\n",
       "      <th>45</th>\n",
       "      <td>Auto</td>\n",
       "      <td>Automotive &amp; Sports</td>\n",
       "    </tr>\n",
       "    <tr>\n",
       "      <th>46</th>\n",
       "      <td>Automated Kiosk</td>\n",
       "      <td>Automotive &amp; Sports</td>\n",
       "    </tr>\n",
       "    <tr>\n",
       "      <th>47</th>\n",
       "      <td>Automotive</td>\n",
       "      <td>Automotive &amp; Sports</td>\n",
       "    </tr>\n",
       "  </tbody>\n",
       "</table>\n",
       "</div>"
      ],
      "text/plain": [
       "       category_list             variable\n",
       "8   Adventure Travel  Automotive & Sports\n",
       "14         Aerospace  Automotive & Sports\n",
       "45              Auto  Automotive & Sports\n",
       "46   Automated Kiosk  Automotive & Sports\n",
       "47        Automotive  Automotive & Sports"
      ]
     },
     "execution_count": 31,
     "metadata": {},
     "output_type": "execute_result"
    }
   ],
   "source": [
    "long_mapping = long_mapping.drop('value',axis=1)\n",
    "long_mapping.head()"
   ]
  },
  {
   "cell_type": "code",
   "execution_count": 32,
   "metadata": {},
   "outputs": [
    {
     "data": {
      "text/html": [
       "<div>\n",
       "<style scoped>\n",
       "    .dataframe tbody tr th:only-of-type {\n",
       "        vertical-align: middle;\n",
       "    }\n",
       "\n",
       "    .dataframe tbody tr th {\n",
       "        vertical-align: top;\n",
       "    }\n",
       "\n",
       "    .dataframe thead th {\n",
       "        text-align: right;\n",
       "    }\n",
       "</style>\n",
       "<table border=\"1\" class=\"dataframe\">\n",
       "  <thead>\n",
       "    <tr style=\"text-align: right;\">\n",
       "      <th></th>\n",
       "      <th>category_list</th>\n",
       "      <th>sector</th>\n",
       "    </tr>\n",
       "  </thead>\n",
       "  <tbody>\n",
       "    <tr>\n",
       "      <th>8</th>\n",
       "      <td>Adventure Travel</td>\n",
       "      <td>Automotive &amp; Sports</td>\n",
       "    </tr>\n",
       "    <tr>\n",
       "      <th>14</th>\n",
       "      <td>Aerospace</td>\n",
       "      <td>Automotive &amp; Sports</td>\n",
       "    </tr>\n",
       "    <tr>\n",
       "      <th>45</th>\n",
       "      <td>Auto</td>\n",
       "      <td>Automotive &amp; Sports</td>\n",
       "    </tr>\n",
       "    <tr>\n",
       "      <th>46</th>\n",
       "      <td>Automated Kiosk</td>\n",
       "      <td>Automotive &amp; Sports</td>\n",
       "    </tr>\n",
       "    <tr>\n",
       "      <th>47</th>\n",
       "      <td>Automotive</td>\n",
       "      <td>Automotive &amp; Sports</td>\n",
       "    </tr>\n",
       "  </tbody>\n",
       "</table>\n",
       "</div>"
      ],
      "text/plain": [
       "       category_list               sector\n",
       "8   Adventure Travel  Automotive & Sports\n",
       "14         Aerospace  Automotive & Sports\n",
       "45              Auto  Automotive & Sports\n",
       "46   Automated Kiosk  Automotive & Sports\n",
       "47        Automotive  Automotive & Sports"
      ]
     },
     "execution_count": 32,
     "metadata": {},
     "output_type": "execute_result"
    }
   ],
   "source": [
    "long_mapping = long_mapping.rename(columns={'variable': 'sector'})\n",
    "long_mapping.head()"
   ]
  },
  {
   "cell_type": "code",
   "execution_count": 33,
   "metadata": {},
   "outputs": [],
   "source": [
    "master_frame = master_frame[~master_frame.category_list.isnull()]"
   ]
  },
  {
   "cell_type": "code",
   "execution_count": 34,
   "metadata": {},
   "outputs": [],
   "source": [
    "# Checkpoint 4 ------> Sector anlysis, spliting the category list for companies having multiple category and taking first string as primary category.\n",
    "master_frame.category_list = master_frame.category_list.apply(lambda x: x.split('|')[0])"
   ]
  },
  {
   "cell_type": "code",
   "execution_count": 35,
   "metadata": {},
   "outputs": [],
   "source": [
    "master_frame = pd.merge(master_frame,long_mapping,left_on='category_list',right_on='category_list')"
   ]
  },
  {
   "cell_type": "code",
   "execution_count": 36,
   "metadata": {},
   "outputs": [
    {
     "data": {
      "text/html": [
       "<div>\n",
       "<style scoped>\n",
       "    .dataframe tbody tr th:only-of-type {\n",
       "        vertical-align: middle;\n",
       "    }\n",
       "\n",
       "    .dataframe tbody tr th {\n",
       "        vertical-align: top;\n",
       "    }\n",
       "\n",
       "    .dataframe thead th {\n",
       "        text-align: right;\n",
       "    }\n",
       "</style>\n",
       "<table border=\"1\" class=\"dataframe\">\n",
       "  <thead>\n",
       "    <tr style=\"text-align: right;\">\n",
       "      <th></th>\n",
       "      <th>company_permalink</th>\n",
       "      <th>funding_round_permalink</th>\n",
       "      <th>funding_round_type</th>\n",
       "      <th>funding_round_code</th>\n",
       "      <th>funded_at</th>\n",
       "      <th>raised_amount_usd</th>\n",
       "      <th>permalink</th>\n",
       "      <th>name</th>\n",
       "      <th>homepage_url</th>\n",
       "      <th>category_list</th>\n",
       "      <th>status</th>\n",
       "      <th>country_code</th>\n",
       "      <th>state_code</th>\n",
       "      <th>region</th>\n",
       "      <th>city</th>\n",
       "      <th>founded_at</th>\n",
       "      <th>sector</th>\n",
       "    </tr>\n",
       "  </thead>\n",
       "  <tbody>\n",
       "    <tr>\n",
       "      <th>0</th>\n",
       "      <td>/ORGANIZATION/-QOUNTER</td>\n",
       "      <td>/funding-round/22dacff496eb7acb2b901dec1dfe5633</td>\n",
       "      <td>venture</td>\n",
       "      <td>A</td>\n",
       "      <td>14-10-2014</td>\n",
       "      <td>NaN</td>\n",
       "      <td>/ORGANIZATION/-QOUNTER</td>\n",
       "      <td>:Qounter</td>\n",
       "      <td>http://www.qounter.com</td>\n",
       "      <td>Application Platforms</td>\n",
       "      <td>operating</td>\n",
       "      <td>USA</td>\n",
       "      <td>DE</td>\n",
       "      <td>DE - Other</td>\n",
       "      <td>Delaware City</td>\n",
       "      <td>04-09-2014</td>\n",
       "      <td>News, Search and Messaging</td>\n",
       "    </tr>\n",
       "    <tr>\n",
       "      <th>1</th>\n",
       "      <td>/ORGANIZATION/AAROHI-COMMUNICATION</td>\n",
       "      <td>/funding-round/1860d75993627f37c4b1a17b97a83502</td>\n",
       "      <td>venture</td>\n",
       "      <td>NaN</td>\n",
       "      <td>01-08-2001</td>\n",
       "      <td>NaN</td>\n",
       "      <td>/ORGANIZATION/AAROHI-COMMUNICATION</td>\n",
       "      <td>Aarohi communication</td>\n",
       "      <td>http://www.aarohi.net/</td>\n",
       "      <td>Application Platforms</td>\n",
       "      <td>acquired</td>\n",
       "      <td>USA</td>\n",
       "      <td>CA</td>\n",
       "      <td>SF Bay Area</td>\n",
       "      <td>San Jose</td>\n",
       "      <td>NaN</td>\n",
       "      <td>News, Search and Messaging</td>\n",
       "    </tr>\n",
       "    <tr>\n",
       "      <th>2</th>\n",
       "      <td>/ORGANIZATION/AAROHI-COMMUNICATION</td>\n",
       "      <td>/funding-round/84f519482b29b686a0c6b59ff383d386</td>\n",
       "      <td>venture</td>\n",
       "      <td>NaN</td>\n",
       "      <td>29-08-2003</td>\n",
       "      <td>6000000.0</td>\n",
       "      <td>/ORGANIZATION/AAROHI-COMMUNICATION</td>\n",
       "      <td>Aarohi communication</td>\n",
       "      <td>http://www.aarohi.net/</td>\n",
       "      <td>Application Platforms</td>\n",
       "      <td>acquired</td>\n",
       "      <td>USA</td>\n",
       "      <td>CA</td>\n",
       "      <td>SF Bay Area</td>\n",
       "      <td>San Jose</td>\n",
       "      <td>NaN</td>\n",
       "      <td>News, Search and Messaging</td>\n",
       "    </tr>\n",
       "    <tr>\n",
       "      <th>3</th>\n",
       "      <td>/ORGANIZATION/AAROHI-COMMUNICATION</td>\n",
       "      <td>/funding-round/b0f47948e427b6c91a50128373273abf</td>\n",
       "      <td>venture</td>\n",
       "      <td>B</td>\n",
       "      <td>06-12-2002</td>\n",
       "      <td>8000000.0</td>\n",
       "      <td>/ORGANIZATION/AAROHI-COMMUNICATION</td>\n",
       "      <td>Aarohi communication</td>\n",
       "      <td>http://www.aarohi.net/</td>\n",
       "      <td>Application Platforms</td>\n",
       "      <td>acquired</td>\n",
       "      <td>USA</td>\n",
       "      <td>CA</td>\n",
       "      <td>SF Bay Area</td>\n",
       "      <td>San Jose</td>\n",
       "      <td>NaN</td>\n",
       "      <td>News, Search and Messaging</td>\n",
       "    </tr>\n",
       "    <tr>\n",
       "      <th>4</th>\n",
       "      <td>/ORGANIZATION/ALLEGRO-NETWORKS</td>\n",
       "      <td>/funding-round/e2c35bf4ea04c31d391743ff13de3c65</td>\n",
       "      <td>venture</td>\n",
       "      <td>B</td>\n",
       "      <td>04-02-2002</td>\n",
       "      <td>60000000.0</td>\n",
       "      <td>/ORGANIZATION/ALLEGRO-NETWORKS</td>\n",
       "      <td>Allegro Networks</td>\n",
       "      <td>http://www.allegronetworks.com</td>\n",
       "      <td>Application Platforms</td>\n",
       "      <td>closed</td>\n",
       "      <td>USA</td>\n",
       "      <td>CA</td>\n",
       "      <td>SF Bay Area</td>\n",
       "      <td>San Jose</td>\n",
       "      <td>01-01-2000</td>\n",
       "      <td>News, Search and Messaging</td>\n",
       "    </tr>\n",
       "  </tbody>\n",
       "</table>\n",
       "</div>"
      ],
      "text/plain": [
       "                    company_permalink  \\\n",
       "0              /ORGANIZATION/-QOUNTER   \n",
       "1  /ORGANIZATION/AAROHI-COMMUNICATION   \n",
       "2  /ORGANIZATION/AAROHI-COMMUNICATION   \n",
       "3  /ORGANIZATION/AAROHI-COMMUNICATION   \n",
       "4      /ORGANIZATION/ALLEGRO-NETWORKS   \n",
       "\n",
       "                           funding_round_permalink funding_round_type  \\\n",
       "0  /funding-round/22dacff496eb7acb2b901dec1dfe5633            venture   \n",
       "1  /funding-round/1860d75993627f37c4b1a17b97a83502            venture   \n",
       "2  /funding-round/84f519482b29b686a0c6b59ff383d386            venture   \n",
       "3  /funding-round/b0f47948e427b6c91a50128373273abf            venture   \n",
       "4  /funding-round/e2c35bf4ea04c31d391743ff13de3c65            venture   \n",
       "\n",
       "  funding_round_code   funded_at  raised_amount_usd  \\\n",
       "0                  A  14-10-2014                NaN   \n",
       "1                NaN  01-08-2001                NaN   \n",
       "2                NaN  29-08-2003          6000000.0   \n",
       "3                  B  06-12-2002          8000000.0   \n",
       "4                  B  04-02-2002         60000000.0   \n",
       "\n",
       "                            permalink                  name  \\\n",
       "0              /ORGANIZATION/-QOUNTER              :Qounter   \n",
       "1  /ORGANIZATION/AAROHI-COMMUNICATION  Aarohi communication   \n",
       "2  /ORGANIZATION/AAROHI-COMMUNICATION  Aarohi communication   \n",
       "3  /ORGANIZATION/AAROHI-COMMUNICATION  Aarohi communication   \n",
       "4      /ORGANIZATION/ALLEGRO-NETWORKS      Allegro Networks   \n",
       "\n",
       "                     homepage_url          category_list     status  \\\n",
       "0          http://www.qounter.com  Application Platforms  operating   \n",
       "1          http://www.aarohi.net/  Application Platforms   acquired   \n",
       "2          http://www.aarohi.net/  Application Platforms   acquired   \n",
       "3          http://www.aarohi.net/  Application Platforms   acquired   \n",
       "4  http://www.allegronetworks.com  Application Platforms     closed   \n",
       "\n",
       "  country_code state_code       region           city  founded_at  \\\n",
       "0          USA         DE   DE - Other  Delaware City  04-09-2014   \n",
       "1          USA         CA  SF Bay Area       San Jose         NaN   \n",
       "2          USA         CA  SF Bay Area       San Jose         NaN   \n",
       "3          USA         CA  SF Bay Area       San Jose         NaN   \n",
       "4          USA         CA  SF Bay Area       San Jose  01-01-2000   \n",
       "\n",
       "                       sector  \n",
       "0  News, Search and Messaging  \n",
       "1  News, Search and Messaging  \n",
       "2  News, Search and Messaging  \n",
       "3  News, Search and Messaging  \n",
       "4  News, Search and Messaging  "
      ]
     },
     "execution_count": 36,
     "metadata": {},
     "output_type": "execute_result"
    }
   ],
   "source": [
    "master_frame.head()"
   ]
  },
  {
   "cell_type": "code",
   "execution_count": 37,
   "metadata": {},
   "outputs": [
    {
     "name": "stdout",
     "output_type": "stream",
     "text": [
      "<class 'pandas.core.frame.DataFrame'>\n",
      "Int64Index: 38797 entries, 0 to 38796\n",
      "Data columns (total 17 columns):\n",
      " #   Column                   Non-Null Count  Dtype  \n",
      "---  ------                   --------------  -----  \n",
      " 0   company_permalink        38797 non-null  object \n",
      " 1   funding_round_permalink  38797 non-null  object \n",
      " 2   funding_round_type       38797 non-null  object \n",
      " 3   funding_round_code       20721 non-null  object \n",
      " 4   funded_at                38797 non-null  object \n",
      " 5   raised_amount_usd        36618 non-null  float64\n",
      " 6   permalink                38797 non-null  object \n",
      " 7   name                     38797 non-null  object \n",
      " 8   homepage_url             36947 non-null  object \n",
      " 9   category_list            38797 non-null  object \n",
      " 10  status                   38797 non-null  object \n",
      " 11  country_code             38797 non-null  object \n",
      " 12  state_code               38720 non-null  object \n",
      " 13  region                   38629 non-null  object \n",
      " 14  city                     38629 non-null  object \n",
      " 15  founded_at               32301 non-null  object \n",
      " 16  sector                   38797 non-null  object \n",
      "dtypes: float64(1), object(16)\n",
      "memory usage: 5.3+ MB\n"
     ]
    }
   ],
   "source": [
    "master_frame.info()"
   ]
  },
  {
   "cell_type": "code",
   "execution_count": 38,
   "metadata": {},
   "outputs": [
    {
     "data": {
      "text/plain": [
       "venture    38797\n",
       "Name: funding_round_type, dtype: int64"
      ]
     },
     "execution_count": 38,
     "metadata": {},
     "output_type": "execute_result"
    }
   ],
   "source": [
    "master_frame.funding_round_type.value_counts()"
   ]
  },
  {
   "cell_type": "code",
   "execution_count": 39,
   "metadata": {},
   "outputs": [
    {
     "data": {
      "text/plain": [
       "USA    35421\n",
       "GBR     2120\n",
       "CAN     1256\n",
       "Name: country_code, dtype: int64"
      ]
     },
     "execution_count": 39,
     "metadata": {},
     "output_type": "execute_result"
    }
   ],
   "source": [
    "# Checkpoint 5 ------> Finding observations in top 3 english speaking countries with 8 main sectors\n",
    "master_frame.country_code.value_counts()"
   ]
  },
  {
   "cell_type": "code",
   "execution_count": 40,
   "metadata": {},
   "outputs": [],
   "source": [
    "D1 = master_frame[(master_frame.country_code == 'USA') & \n",
    "                  ((master_frame.raised_amount_usd > 4999999.99) | (master_frame.raised_amount_usd < 15000001))]"
   ]
  },
  {
   "cell_type": "code",
   "execution_count": 41,
   "metadata": {},
   "outputs": [],
   "source": [
    "D2 = master_frame[(master_frame.country_code == 'GBR') & \n",
    "                  ((master_frame.raised_amount_usd > 4999999.99) | (master_frame.raised_amount_usd < 15000001))]"
   ]
  },
  {
   "cell_type": "code",
   "execution_count": 42,
   "metadata": {},
   "outputs": [],
   "source": [
    "D3 = master_frame[(master_frame.country_code == 'CAN') & \n",
    "                  ((master_frame.raised_amount_usd > 4999999.99) | (master_frame.raised_amount_usd < 15000001))]"
   ]
  },
  {
   "cell_type": "code",
   "execution_count": 43,
   "metadata": {},
   "outputs": [
    {
     "name": "stdout",
     "output_type": "stream",
     "text": [
      "<class 'pandas.core.frame.DataFrame'>\n",
      "Int64Index: 33526 entries, 2 to 38796\n",
      "Data columns (total 17 columns):\n",
      " #   Column                   Non-Null Count  Dtype  \n",
      "---  ------                   --------------  -----  \n",
      " 0   company_permalink        33526 non-null  object \n",
      " 1   funding_round_permalink  33526 non-null  object \n",
      " 2   funding_round_type       33526 non-null  object \n",
      " 3   funding_round_code       18015 non-null  object \n",
      " 4   funded_at                33526 non-null  object \n",
      " 5   raised_amount_usd        33526 non-null  float64\n",
      " 6   permalink                33526 non-null  object \n",
      " 7   name                     33526 non-null  object \n",
      " 8   homepage_url             31898 non-null  object \n",
      " 9   category_list            33526 non-null  object \n",
      " 10  status                   33526 non-null  object \n",
      " 11  country_code             33526 non-null  object \n",
      " 12  state_code               33511 non-null  object \n",
      " 13  region                   33493 non-null  object \n",
      " 14  city                     33493 non-null  object \n",
      " 15  founded_at               28216 non-null  object \n",
      " 16  sector                   33526 non-null  object \n",
      "dtypes: float64(1), object(16)\n",
      "memory usage: 4.6+ MB\n"
     ]
    }
   ],
   "source": [
    "D1.info()"
   ]
  },
  {
   "cell_type": "code",
   "execution_count": 44,
   "metadata": {},
   "outputs": [
    {
     "name": "stdout",
     "output_type": "stream",
     "text": [
      "<class 'pandas.core.frame.DataFrame'>\n",
      "Int64Index: 1916 entries, 18 to 38785\n",
      "Data columns (total 17 columns):\n",
      " #   Column                   Non-Null Count  Dtype  \n",
      "---  ------                   --------------  -----  \n",
      " 0   company_permalink        1916 non-null   object \n",
      " 1   funding_round_permalink  1916 non-null   object \n",
      " 2   funding_round_type       1916 non-null   object \n",
      " 3   funding_round_code       952 non-null    object \n",
      " 4   funded_at                1916 non-null   object \n",
      " 5   raised_amount_usd        1916 non-null   float64\n",
      " 6   permalink                1916 non-null   object \n",
      " 7   name                     1916 non-null   object \n",
      " 8   homepage_url             1833 non-null   object \n",
      " 9   category_list            1916 non-null   object \n",
      " 10  status                   1916 non-null   object \n",
      " 11  country_code             1916 non-null   object \n",
      " 12  state_code               1863 non-null   object \n",
      " 13  region                   1798 non-null   object \n",
      " 14  city                     1798 non-null   object \n",
      " 15  founded_at               1445 non-null   object \n",
      " 16  sector                   1916 non-null   object \n",
      "dtypes: float64(1), object(16)\n",
      "memory usage: 269.4+ KB\n"
     ]
    }
   ],
   "source": [
    "D2.info()"
   ]
  },
  {
   "cell_type": "code",
   "execution_count": 45,
   "metadata": {},
   "outputs": [
    {
     "name": "stdout",
     "output_type": "stream",
     "text": [
      "<class 'pandas.core.frame.DataFrame'>\n",
      "Int64Index: 1176 entries, 34 to 38768\n",
      "Data columns (total 17 columns):\n",
      " #   Column                   Non-Null Count  Dtype  \n",
      "---  ------                   --------------  -----  \n",
      " 0   company_permalink        1176 non-null   object \n",
      " 1   funding_round_permalink  1176 non-null   object \n",
      " 2   funding_round_type       1176 non-null   object \n",
      " 3   funding_round_code       552 non-null    object \n",
      " 4   funded_at                1176 non-null   object \n",
      " 5   raised_amount_usd        1176 non-null   float64\n",
      " 6   permalink                1176 non-null   object \n",
      " 7   name                     1176 non-null   object \n",
      " 8   homepage_url             1122 non-null   object \n",
      " 9   category_list            1176 non-null   object \n",
      " 10  status                   1176 non-null   object \n",
      " 11  country_code             1176 non-null   object \n",
      " 12  state_code               1171 non-null   object \n",
      " 13  region                   1171 non-null   object \n",
      " 14  city                     1171 non-null   object \n",
      " 15  founded_at               901 non-null    object \n",
      " 16  sector                   1176 non-null   object \n",
      "dtypes: float64(1), object(16)\n",
      "memory usage: 165.4+ KB\n"
     ]
    }
   ],
   "source": [
    "D3.info()"
   ]
  },
  {
   "cell_type": "code",
   "execution_count": 46,
   "metadata": {},
   "outputs": [
    {
     "data": {
      "text/plain": [
       "392237581395.0"
      ]
     },
     "execution_count": 46,
     "metadata": {},
     "output_type": "execute_result"
    }
   ],
   "source": [
    "D1.raised_amount_usd.sum()"
   ]
  },
  {
   "cell_type": "code",
   "execution_count": 47,
   "metadata": {},
   "outputs": [
    {
     "data": {
      "text/plain": [
       "18924390319.0"
      ]
     },
     "execution_count": 47,
     "metadata": {},
     "output_type": "execute_result"
    }
   ],
   "source": [
    "D2.raised_amount_usd.sum()"
   ]
  },
  {
   "cell_type": "code",
   "execution_count": 48,
   "metadata": {},
   "outputs": [
    {
     "data": {
      "text/plain": [
       "8715620524.0"
      ]
     },
     "execution_count": 48,
     "metadata": {},
     "output_type": "execute_result"
    }
   ],
   "source": [
    "D3.raised_amount_usd.sum()"
   ]
  },
  {
   "cell_type": "code",
   "execution_count": 49,
   "metadata": {},
   "outputs": [
    {
     "data": {
      "text/plain": [
       "Others                                     8243\n",
       "Cleantech / Semiconductors                 7849\n",
       "Social, Finance, Analytics, Advertising    5156\n",
       "News, Search and Messaging                 4301\n",
       "Health                                     3263\n",
       "Manufacturing                              2453\n",
       "Entertainment                              1756\n",
       "Automotive & Sports                         505\n",
       "Name: sector, dtype: int64"
      ]
     },
     "execution_count": 49,
     "metadata": {},
     "output_type": "execute_result"
    }
   ],
   "source": [
    "D1.sector.value_counts()"
   ]
  },
  {
   "cell_type": "code",
   "execution_count": 50,
   "metadata": {},
   "outputs": [
    {
     "data": {
      "text/plain": [
       "Others                                     507\n",
       "Cleantech / Semiconductors                 433\n",
       "Social, Finance, Analytics, Advertising    318\n",
       "News, Search and Messaging                 241\n",
       "Entertainment                              133\n",
       "Manufacturing                              122\n",
       "Health                                     118\n",
       "Automotive & Sports                         44\n",
       "Name: sector, dtype: int64"
      ]
     },
     "execution_count": 50,
     "metadata": {},
     "output_type": "execute_result"
    }
   ],
   "source": [
    "D2.sector.value_counts()"
   ]
  },
  {
   "cell_type": "code",
   "execution_count": 51,
   "metadata": {},
   "outputs": [
    {
     "data": {
      "text/plain": [
       "Cleantech / Semiconductors                 329\n",
       "Others                                     326\n",
       "Social, Finance, Analytics, Advertising    164\n",
       "News, Search and Messaging                 132\n",
       "Manufacturing                              100\n",
       "Health                                      61\n",
       "Entertainment                               50\n",
       "Automotive & Sports                         14\n",
       "Name: sector, dtype: int64"
      ]
     },
     "execution_count": 51,
     "metadata": {},
     "output_type": "execute_result"
    }
   ],
   "source": [
    "D3.sector.value_counts()"
   ]
  },
  {
   "cell_type": "code",
   "execution_count": 52,
   "metadata": {},
   "outputs": [
    {
     "data": {
      "text/plain": [
       "(8243, 7849, 5156)"
      ]
     },
     "execution_count": 52,
     "metadata": {},
     "output_type": "execute_result"
    }
   ],
   "source": [
    "(D1.raised_amount_usd[D1.sector == 'Others'].size , D1.raised_amount_usd[D1.sector == 'Cleantech / Semiconductors'].size ,\n",
    "D1.raised_amount_usd[D1.sector == 'Social, Finance, Analytics, Advertising'].size)"
   ]
  },
  {
   "cell_type": "code",
   "execution_count": 53,
   "metadata": {},
   "outputs": [
    {
     "data": {
      "text/plain": [
       "(507, 433, 318)"
      ]
     },
     "execution_count": 53,
     "metadata": {},
     "output_type": "execute_result"
    }
   ],
   "source": [
    "(D2.raised_amount_usd[D2.sector == 'Others'].size , D2.raised_amount_usd[D2.sector == 'Cleantech / Semiconductors'].size ,\n",
    "D2.raised_amount_usd[D2.sector == 'Social, Finance, Analytics, Advertising'].size)"
   ]
  },
  {
   "cell_type": "code",
   "execution_count": 54,
   "metadata": {},
   "outputs": [
    {
     "data": {
      "text/plain": [
       "(329, 326, 164)"
      ]
     },
     "execution_count": 54,
     "metadata": {},
     "output_type": "execute_result"
    }
   ],
   "source": [
    "(D3.raised_amount_usd[D3.sector == 'Cleantech / Semiconductors'].size , D3.raised_amount_usd[D3.sector == 'Others'].size ,\n",
    "D3.raised_amount_usd[D3.sector == 'Social, Finance, Analytics, Advertising'].size)"
   ]
  },
  {
   "cell_type": "code",
   "execution_count": 55,
   "metadata": {},
   "outputs": [
    {
     "data": {
      "text/plain": [
       "Terascala         13\n",
       "VectorMAX         12\n",
       "Lecere            11\n",
       "BTI Systems       10\n",
       "Delivery Agent     9\n",
       "                  ..\n",
       "Loopster           1\n",
       "MediSwipe          1\n",
       "StyleSaint         1\n",
       "Accurence          1\n",
       "Doculynx           1\n",
       "Name: name, Length: 4632, dtype: int64"
      ]
     },
     "execution_count": 55,
     "metadata": {},
     "output_type": "execute_result"
    }
   ],
   "source": [
    "D1.name[D1.sector == 'Others'].value_counts()"
   ]
  },
  {
   "cell_type": "code",
   "execution_count": 56,
   "metadata": {},
   "outputs": [
    {
     "data": {
      "text/plain": [
       "Tigo Energy                    12\n",
       "Galectin Therapeutics          12\n",
       "Aviir                          12\n",
       "Covenant Surgical Partners     12\n",
       "CNS Response                   11\n",
       "                               ..\n",
       "Soma                            1\n",
       "Manhattan Pharmaceuticals       1\n",
       "Santa Maria Biotherapeutics     1\n",
       "ProChon Biotech                 1\n",
       "Element Power                   1\n",
       "Name: name, Length: 3775, dtype: int64"
      ]
     },
     "execution_count": 56,
     "metadata": {},
     "output_type": "execute_result"
    }
   ],
   "source": [
    "D1.name[D1.sector == 'Cleantech / Semiconductors'].value_counts()"
   ]
  },
  {
   "cell_type": "code",
   "execution_count": 57,
   "metadata": {},
   "outputs": [
    {
     "data": {
      "text/plain": [
       "Rostima           8\n",
       "Electric Cloud    7\n",
       "Helveta           6\n",
       "picoChip          6\n",
       "Farfetch          5\n",
       "                 ..\n",
       "Bloom & Wild      1\n",
       "Ideagen           1\n",
       "Breeze Tech       1\n",
       "VYRE Limited      1\n",
       "Proversity        1\n",
       "Name: name, Length: 347, dtype: int64"
      ]
     },
     "execution_count": 57,
     "metadata": {},
     "output_type": "execute_result"
    }
   ],
   "source": [
    "D2.name[D2.sector == 'Others'].value_counts()"
   ]
  },
  {
   "cell_type": "code",
   "execution_count": 58,
   "metadata": {},
   "outputs": [
    {
     "data": {
      "text/plain": [
       "Population Genetics Technologies    6\n",
       "Green Biologics                     6\n",
       "Horizon Discovery                   5\n",
       "Sirigen                             5\n",
       "F-star Biotechnology Limited        5\n",
       "                                   ..\n",
       "Convergence Pharmaceuticals         1\n",
       "Crysalin                            1\n",
       "Lumicity                            1\n",
       "Inivata                             1\n",
       "Sernova                             1\n",
       "Name: name, Length: 274, dtype: int64"
      ]
     },
     "execution_count": 58,
     "metadata": {},
     "output_type": "execute_result"
    }
   ],
   "source": [
    "D2.name[D2.sector == 'Cleantech / Semiconductors'].value_counts()"
   ]
  },
  {
   "cell_type": "code",
   "execution_count": 59,
   "metadata": {},
   "outputs": [
    {
     "data": {
      "text/plain": [
       "Amorfix Life Sciences       9\n",
       "D-Wave Systems              7\n",
       "Zymeworks                   6\n",
       "Aquinox Pharmaceuticals     6\n",
       "Ostara                      5\n",
       "                           ..\n",
       "Biopharmacopae              1\n",
       "Smart Energy Instruments    1\n",
       "NovX                        1\n",
       "Telesta Therapeutics        1\n",
       "Medicago                    1\n",
       "Name: name, Length: 174, dtype: int64"
      ]
     },
     "execution_count": 59,
     "metadata": {},
     "output_type": "execute_result"
    }
   ],
   "source": [
    "D3.name[D3.sector == 'Cleantech / Semiconductors'].value_counts()"
   ]
  },
  {
   "cell_type": "code",
   "execution_count": 60,
   "metadata": {},
   "outputs": [
    {
     "data": {
      "text/plain": [
       "Creation Technologies         9\n",
       "Teradici                      6\n",
       "HighRoads                     6\n",
       "Respect Your Universe, Inc    6\n",
       "BuildDirect                   5\n",
       "                             ..\n",
       "Roam I.T.                     1\n",
       "iMPath Networks               1\n",
       "Guard RFID Solutions          1\n",
       "Thoughtexchange               1\n",
       "OnCorp Direct                 1\n",
       "Name: name, Length: 203, dtype: int64"
      ]
     },
     "execution_count": 60,
     "metadata": {},
     "output_type": "execute_result"
    }
   ],
   "source": [
    "D3.name[D3.sector == 'Others'].value_counts()"
   ]
  },
  {
   "cell_type": "code",
   "execution_count": 61,
   "metadata": {},
   "outputs": [
    {
     "data": {
      "text/html": [
       "<div>\n",
       "<style scoped>\n",
       "    .dataframe tbody tr th:only-of-type {\n",
       "        vertical-align: middle;\n",
       "    }\n",
       "\n",
       "    .dataframe tbody tr th {\n",
       "        vertical-align: top;\n",
       "    }\n",
       "\n",
       "    .dataframe thead th {\n",
       "        text-align: right;\n",
       "    }\n",
       "</style>\n",
       "<table border=\"1\" class=\"dataframe\">\n",
       "  <thead>\n",
       "    <tr style=\"text-align: right;\">\n",
       "      <th></th>\n",
       "      <th>company_permalink</th>\n",
       "      <th>funding_round_permalink</th>\n",
       "      <th>funding_round_type</th>\n",
       "      <th>funding_round_code</th>\n",
       "      <th>funded_at</th>\n",
       "      <th>raised_amount_usd</th>\n",
       "      <th>permalink</th>\n",
       "      <th>name</th>\n",
       "      <th>homepage_url</th>\n",
       "      <th>category_list</th>\n",
       "      <th>status</th>\n",
       "      <th>country_code</th>\n",
       "      <th>state_code</th>\n",
       "      <th>region</th>\n",
       "      <th>city</th>\n",
       "      <th>founded_at</th>\n",
       "      <th>sector</th>\n",
       "    </tr>\n",
       "  </thead>\n",
       "  <tbody>\n",
       "    <tr>\n",
       "      <th>2</th>\n",
       "      <td>/ORGANIZATION/AAROHI-COMMUNICATION</td>\n",
       "      <td>/funding-round/84f519482b29b686a0c6b59ff383d386</td>\n",
       "      <td>venture</td>\n",
       "      <td>NaN</td>\n",
       "      <td>29-08-2003</td>\n",
       "      <td>6000000.0</td>\n",
       "      <td>/ORGANIZATION/AAROHI-COMMUNICATION</td>\n",
       "      <td>Aarohi communication</td>\n",
       "      <td>http://www.aarohi.net/</td>\n",
       "      <td>Application Platforms</td>\n",
       "      <td>acquired</td>\n",
       "      <td>USA</td>\n",
       "      <td>CA</td>\n",
       "      <td>SF Bay Area</td>\n",
       "      <td>San Jose</td>\n",
       "      <td>NaN</td>\n",
       "      <td>News, Search and Messaging</td>\n",
       "    </tr>\n",
       "    <tr>\n",
       "      <th>3</th>\n",
       "      <td>/ORGANIZATION/AAROHI-COMMUNICATION</td>\n",
       "      <td>/funding-round/b0f47948e427b6c91a50128373273abf</td>\n",
       "      <td>venture</td>\n",
       "      <td>B</td>\n",
       "      <td>06-12-2002</td>\n",
       "      <td>8000000.0</td>\n",
       "      <td>/ORGANIZATION/AAROHI-COMMUNICATION</td>\n",
       "      <td>Aarohi communication</td>\n",
       "      <td>http://www.aarohi.net/</td>\n",
       "      <td>Application Platforms</td>\n",
       "      <td>acquired</td>\n",
       "      <td>USA</td>\n",
       "      <td>CA</td>\n",
       "      <td>SF Bay Area</td>\n",
       "      <td>San Jose</td>\n",
       "      <td>NaN</td>\n",
       "      <td>News, Search and Messaging</td>\n",
       "    </tr>\n",
       "    <tr>\n",
       "      <th>4</th>\n",
       "      <td>/ORGANIZATION/ALLEGRO-NETWORKS</td>\n",
       "      <td>/funding-round/e2c35bf4ea04c31d391743ff13de3c65</td>\n",
       "      <td>venture</td>\n",
       "      <td>B</td>\n",
       "      <td>04-02-2002</td>\n",
       "      <td>60000000.0</td>\n",
       "      <td>/ORGANIZATION/ALLEGRO-NETWORKS</td>\n",
       "      <td>Allegro Networks</td>\n",
       "      <td>http://www.allegronetworks.com</td>\n",
       "      <td>Application Platforms</td>\n",
       "      <td>closed</td>\n",
       "      <td>USA</td>\n",
       "      <td>CA</td>\n",
       "      <td>SF Bay Area</td>\n",
       "      <td>San Jose</td>\n",
       "      <td>01-01-2000</td>\n",
       "      <td>News, Search and Messaging</td>\n",
       "    </tr>\n",
       "    <tr>\n",
       "      <th>5</th>\n",
       "      <td>/ORGANIZATION/ALLEGRO-NETWORKS</td>\n",
       "      <td>/funding-round/e663536201b178a622f2b95ac327f92c</td>\n",
       "      <td>venture</td>\n",
       "      <td>NaN</td>\n",
       "      <td>04-10-2001</td>\n",
       "      <td>50000000.0</td>\n",
       "      <td>/ORGANIZATION/ALLEGRO-NETWORKS</td>\n",
       "      <td>Allegro Networks</td>\n",
       "      <td>http://www.allegronetworks.com</td>\n",
       "      <td>Application Platforms</td>\n",
       "      <td>closed</td>\n",
       "      <td>USA</td>\n",
       "      <td>CA</td>\n",
       "      <td>SF Bay Area</td>\n",
       "      <td>San Jose</td>\n",
       "      <td>01-01-2000</td>\n",
       "      <td>News, Search and Messaging</td>\n",
       "    </tr>\n",
       "    <tr>\n",
       "      <th>6</th>\n",
       "      <td>/ORGANIZATION/APPIAN</td>\n",
       "      <td>/funding-round/03d773ec8baf30fae9fb6364df3f9c6c</td>\n",
       "      <td>venture</td>\n",
       "      <td>NaN</td>\n",
       "      <td>03-03-2014</td>\n",
       "      <td>37499994.0</td>\n",
       "      <td>/ORGANIZATION/APPIAN</td>\n",
       "      <td>Appian</td>\n",
       "      <td>http://www.appian.com</td>\n",
       "      <td>Application Platforms</td>\n",
       "      <td>operating</td>\n",
       "      <td>USA</td>\n",
       "      <td>VA</td>\n",
       "      <td>Washington, D.C.</td>\n",
       "      <td>Reston</td>\n",
       "      <td>17-08-1999</td>\n",
       "      <td>News, Search and Messaging</td>\n",
       "    </tr>\n",
       "  </tbody>\n",
       "</table>\n",
       "</div>"
      ],
      "text/plain": [
       "                    company_permalink  \\\n",
       "2  /ORGANIZATION/AAROHI-COMMUNICATION   \n",
       "3  /ORGANIZATION/AAROHI-COMMUNICATION   \n",
       "4      /ORGANIZATION/ALLEGRO-NETWORKS   \n",
       "5      /ORGANIZATION/ALLEGRO-NETWORKS   \n",
       "6                /ORGANIZATION/APPIAN   \n",
       "\n",
       "                           funding_round_permalink funding_round_type  \\\n",
       "2  /funding-round/84f519482b29b686a0c6b59ff383d386            venture   \n",
       "3  /funding-round/b0f47948e427b6c91a50128373273abf            venture   \n",
       "4  /funding-round/e2c35bf4ea04c31d391743ff13de3c65            venture   \n",
       "5  /funding-round/e663536201b178a622f2b95ac327f92c            venture   \n",
       "6  /funding-round/03d773ec8baf30fae9fb6364df3f9c6c            venture   \n",
       "\n",
       "  funding_round_code   funded_at  raised_amount_usd  \\\n",
       "2                NaN  29-08-2003          6000000.0   \n",
       "3                  B  06-12-2002          8000000.0   \n",
       "4                  B  04-02-2002         60000000.0   \n",
       "5                NaN  04-10-2001         50000000.0   \n",
       "6                NaN  03-03-2014         37499994.0   \n",
       "\n",
       "                            permalink                  name  \\\n",
       "2  /ORGANIZATION/AAROHI-COMMUNICATION  Aarohi communication   \n",
       "3  /ORGANIZATION/AAROHI-COMMUNICATION  Aarohi communication   \n",
       "4      /ORGANIZATION/ALLEGRO-NETWORKS      Allegro Networks   \n",
       "5      /ORGANIZATION/ALLEGRO-NETWORKS      Allegro Networks   \n",
       "6                /ORGANIZATION/APPIAN                Appian   \n",
       "\n",
       "                     homepage_url          category_list     status  \\\n",
       "2          http://www.aarohi.net/  Application Platforms   acquired   \n",
       "3          http://www.aarohi.net/  Application Platforms   acquired   \n",
       "4  http://www.allegronetworks.com  Application Platforms     closed   \n",
       "5  http://www.allegronetworks.com  Application Platforms     closed   \n",
       "6           http://www.appian.com  Application Platforms  operating   \n",
       "\n",
       "  country_code state_code            region      city  founded_at  \\\n",
       "2          USA         CA       SF Bay Area  San Jose         NaN   \n",
       "3          USA         CA       SF Bay Area  San Jose         NaN   \n",
       "4          USA         CA       SF Bay Area  San Jose  01-01-2000   \n",
       "5          USA         CA       SF Bay Area  San Jose  01-01-2000   \n",
       "6          USA         VA  Washington, D.C.    Reston  17-08-1999   \n",
       "\n",
       "                       sector  \n",
       "2  News, Search and Messaging  \n",
       "3  News, Search and Messaging  \n",
       "4  News, Search and Messaging  \n",
       "5  News, Search and Messaging  \n",
       "6  News, Search and Messaging  "
      ]
     },
     "execution_count": 61,
     "metadata": {},
     "output_type": "execute_result"
    }
   ],
   "source": [
    "D1.head()"
   ]
  },
  {
   "cell_type": "code",
   "execution_count": 62,
   "metadata": {},
   "outputs": [
    {
     "data": {
      "text/plain": [
       "venture    38797\n",
       "Name: funding_round_type, dtype: int64"
      ]
     },
     "execution_count": 62,
     "metadata": {},
     "output_type": "execute_result"
    }
   ],
   "source": [
    "master_frame.funding_round_type.value_counts()"
   ]
  },
  {
   "cell_type": "code",
   "execution_count": 63,
   "metadata": {},
   "outputs": [
    {
     "data": {
      "text/plain": [
       "venture                  55494\n",
       "seed                     30524\n",
       "debt_financing            6895\n",
       "angel                     6094\n",
       "undisclosed               4897\n",
       "equity_crowdfunding       3257\n",
       "private_equity            2285\n",
       "grant                     2200\n",
       "convertible_note          1817\n",
       "post_ipo_equity            638\n",
       "product_crowdfunding       410\n",
       "non_equity_assistance      191\n",
       "post_ipo_debt              152\n",
       "secondary_market            95\n",
       "Name: funding_round_type, dtype: int64"
      ]
     },
     "execution_count": 63,
     "metadata": {},
     "output_type": "execute_result"
    }
   ],
   "source": [
    "master_frame_main.funding_round_type.value_counts()"
   ]
  },
  {
   "cell_type": "code",
   "execution_count": 64,
   "metadata": {},
   "outputs": [],
   "source": [
    "import seaborn as sns"
   ]
  },
  {
   "cell_type": "code",
   "execution_count": 65,
   "metadata": {},
   "outputs": [
    {
     "name": "stdout",
     "output_type": "stream",
     "text": [
      "<class 'pandas.core.frame.DataFrame'>\n",
      "Int64Index: 114949 entries, 0 to 114948\n",
      "Data columns (total 16 columns):\n",
      " #   Column                   Non-Null Count   Dtype  \n",
      "---  ------                   --------------   -----  \n",
      " 0   company_permalink        114949 non-null  object \n",
      " 1   funding_round_permalink  114949 non-null  object \n",
      " 2   funding_round_type       114949 non-null  object \n",
      " 3   funding_round_code       31140 non-null   object \n",
      " 4   funded_at                114949 non-null  object \n",
      " 5   raised_amount_usd        94959 non-null   float64\n",
      " 6   permalink                114949 non-null  object \n",
      " 7   name                     114949 non-null  object \n",
      " 8   homepage_url             108815 non-null  object \n",
      " 9   category_list            111539 non-null  object \n",
      " 10  status                   114949 non-null  object \n",
      " 11  country_code             106271 non-null  object \n",
      " 12  state_code               104003 non-null  object \n",
      " 13  region                   104782 non-null  object \n",
      " 14  city                     104785 non-null  object \n",
      " 15  founded_at               94428 non-null   object \n",
      "dtypes: float64(1), object(15)\n",
      "memory usage: 14.9+ MB\n"
     ]
    }
   ],
   "source": [
    "master_frame_main.info()"
   ]
  },
  {
   "cell_type": "code",
   "execution_count": 66,
   "metadata": {},
   "outputs": [],
   "source": [
    "master_frame_main = master_frame_main[~master_frame_main.raised_amount_usd.isnull()]"
   ]
  },
  {
   "cell_type": "code",
   "execution_count": 67,
   "metadata": {},
   "outputs": [],
   "source": [
    "master_frame_main = master_frame_main[(master_frame_main.funding_round_type == 'angel') |\n",
    "                                     (master_frame_main.funding_round_type == 'seed') |\n",
    "                                     (master_frame_main.funding_round_type == 'private_equity') |\n",
    "                                     (master_frame_main.funding_round_type == 'venture')]"
   ]
  },
  {
   "cell_type": "code",
   "execution_count": 68,
   "metadata": {},
   "outputs": [],
   "source": [
    "master_frame_main = master_frame_main[(master_frame_main.country_code == 'USA') |\n",
    "                                     (master_frame_main.country_code == 'GBR') |\n",
    "                                     (master_frame_main.country_code == 'CAN') |\n",
    "                                     (master_frame_main.country_code == 'IND') |\n",
    "                                     (master_frame_main.country_code == 'ISR') |\n",
    "                                     (master_frame_main.country_code == 'AUS') |\n",
    "                                     (master_frame_main.country_code == 'SGP') |\n",
    "                                     (master_frame_main.country_code == 'IRL') |\n",
    "                                     (master_frame_main.country_code == 'NLD')]"
   ]
  },
  {
   "cell_type": "code",
   "execution_count": 69,
   "metadata": {},
   "outputs": [],
   "source": [
    "master_frame_main = master_frame_main[(master_frame_main.raised_amount_usd > 4999999.99) & (master_frame_main.raised_amount_usd < 15000001)]"
   ]
  },
  {
   "cell_type": "code",
   "execution_count": 70,
   "metadata": {},
   "outputs": [],
   "source": [
    "master_frame_main = master_frame_main[~master_frame_main.category_list.isnull()]"
   ]
  },
  {
   "cell_type": "code",
   "execution_count": 71,
   "metadata": {},
   "outputs": [],
   "source": [
    "master_frame_main.category_list = master_frame_main.category_list.apply(lambda x: x.split('|')[0])"
   ]
  },
  {
   "cell_type": "code",
   "execution_count": 72,
   "metadata": {},
   "outputs": [],
   "source": [
    "master_frame_main = pd.merge(master_frame_main,long_mapping,left_on='category_list',right_on='category_list')"
   ]
  },
  {
   "cell_type": "code",
   "execution_count": 73,
   "metadata": {},
   "outputs": [],
   "source": [
    "Funding_df = {'funding_type' : ['seed','angel','venture','private equity'], 'Representative_funding' : [275000,400000,5000000,20000000]}"
   ]
  },
  {
   "cell_type": "code",
   "execution_count": 74,
   "metadata": {},
   "outputs": [],
   "source": [
    "funding_rf = pd.DataFrame(data=Funding_df)"
   ]
  },
  {
   "cell_type": "code",
   "execution_count": 75,
   "metadata": {},
   "outputs": [
    {
     "data": {
      "image/png": "[encoded data removed]",
      "text/plain": [
       "<Figure size 432x288 with 1 Axes>"
      ]
     },
     "metadata": {
      "needs_background": "light"
     },
     "output_type": "display_data"
    },
    {
     "data": {
      "text/plain": [
       "<Figure size 432x288 with 0 Axes>"
      ]
     },
     "metadata": {},
     "output_type": "display_data"
    }
   ],
   "source": [
    "# Checkpoint 6 ------> Plots\n",
    "sns.barplot(data = funding_rf, x='funding_type', y='Representative_funding')\n",
    "ply.show()"
   ]
  },
  {
   "cell_type": "code",
   "execution_count": 76,
   "metadata": {},
   "outputs": [
    {
     "data": {
      "image/png": "[encoded data removed]",
      "text/plain": [
       "<Figure size 432x288 with 1 Axes>"
      ]
     },
     "metadata": {
      "needs_background": "light"
     },
     "output_type": "display_data"
    }
   ],
   "source": [
    "master_frame_main.country_code[master_frame_main.funding_round_type == 'venture'].value_counts().plot.bar()\n",
    "ply.show()"
   ]
  },
  {
   "cell_type": "code",
   "execution_count": 77,
   "metadata": {},
   "outputs": [],
   "source": [
    "venture = master_frame_main[master_frame_main.funding_round_type == 'venture']"
   ]
  },
  {
   "cell_type": "code",
   "execution_count": 78,
   "metadata": {},
   "outputs": [
    {
     "data": {
      "image/png": "[encoded data removed]",
      "text/plain": [
       "<Figure size 432x288 with 1 Axes>"
      ]
     },
     "metadata": {
      "needs_background": "light"
     },
     "output_type": "display_data"
    }
   ],
   "source": [
    "venture.sector[(venture.country_code == 'USA') | (venture.country_code == 'GBR') | (venture.country_code == 'CAN')].value_counts().plot.bar()\n",
    "ply.show()"
   ]
  },
  {
   "cell_type": "code",
   "execution_count": null,
   "metadata": {},
   "outputs": [],
   "source": []
  }
 ],
 "metadata": {
  "kernelspec": {
   "display_name": "Python 3",
   "language": "python",
   "name": "python3"
  },
  "language_info": {
   "codemirror_mode": {
    "name": "ipython",
    "version": 3
   },
   "file_extension": ".py",
   "mimetype": "text/x-python",
   "name": "python",
   "nbconvert_exporter": "python",
   "pygments_lexer": "ipython3",
   "version": "3.8.3"
  }
 },
 "nbformat": 4,
 "nbformat_minor": 4
}
